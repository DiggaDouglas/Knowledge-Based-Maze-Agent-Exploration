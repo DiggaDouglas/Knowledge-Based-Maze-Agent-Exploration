{
  "cells": [
    {
      "cell_type": "code",
      "execution_count": null,
      "metadata": {
        "id": "PIdOqYOXaRpm"
      },
      "outputs": [],
      "source": [
        "# 4x4 maze: 0 = path, 1 = wall\n",
        "maze = [\n",
        "    [0,0,0,0],\n",
        "    [0,0,1,0],\n",
        "    [1,0,0,0],\n",
        "    [0,0,1,0]\n",
        "]\n",
        "\n",
        "\n",
        "# Agent position and knowledge base\n",
        "x, y = 0, 0   # start position\n",
        "goal_x, goal_y = 3, 3\n",
        "facts = []    # knowledge base (stores learned facts) / facts vs statements (T/F)"
      ]
    },
    {
      "cell_type": "code",
      "execution_count": null,
      "metadata": {
        "id": "XnrV1kiUaRmo"
      },
      "outputs": [],
      "source": [
        "def show_maze():\n",
        "    for i in range(4):\n",
        "        row = \"\"\n",
        "        for j in range(4):\n",
        "            if i == x and j == y:\n",
        "                row += \"A \"\n",
        "            elif i == goal_x and j == goal_y:\n",
        "                row += \"G \"\n",
        "            elif maze[i][j] == 1:\n",
        "                row += \"# \"\n",
        "            else:\n",
        "                row += \". \"\n",
        "        print(row)\n",
        "    print()\n",
        "\n",
        "\n",
        "\n",
        "def add_fact(fact):\n",
        "    \"\"\"Add a new fact to the knowledge base\"\"\"\n",
        "    facts.append(fact)\n",
        "    print(f\"Learned: {fact}\")\n",
        "    # free vs not free/ if you are next to a wall, etc\n",
        "\n",
        "# def valid()\n",
        "\n",
        "def can_move(new_x, new_y):\n",
        "    \"\"\"\n",
        "    FOL Rule: CanMove(X,Y) if Free(X,Y) AND InBounds(X,Y)\n",
        "    - InBounds ensures coordinates are valid\n",
        "    - Free(X,Y) must exist in the knowledge base\n",
        "    \"\"\"\n",
        "    in_bounds = 0 <= new_x < 4 and 0 <= new_y < 4\n",
        "    is_free = f\"Free({new_x},{new_y})\" in facts\n",
        "\n",
        "    print(f\"Can move to ({new_x},{new_y})? Free={is_free}, InBounds={in_bounds}\")\n",
        "    return in_bounds and is_free\n",
        "    # true or false\n",
        "\n",
        "#TASK 1\n",
        "def visit_cell(x, y):\n",
        "    fact = f\"Visited({x},{y})\"\n",
        "    if fact not in facts:\n",
        "        facts.append(fact)\n",
        "        print(f\"Learned: {fact}\")\n",
        "#TASK 2\n",
        "def check_next_to_wall(x, y):\n",
        "    \"\"\"\n",
        "    Check if current cell (x,y) is next to a wall.\n",
        "    If yes, add 'NextToWall(x,y)' fact to KB.\n",
        "    \"\"\"\n",
        "    directions = [(1,0), (-1,0), (0,1), (0,-1)]\n",
        "    for dx, dy in directions:\n",
        "        nx, ny = x+dx, y+dy\n",
        "        if 0 <= nx < 4 and 0 <= ny < 4:\n",
        "            if maze[nx][ny] == 1:  # wall\n",
        "                fact = f\"NextToWall({x},{y})\"\n",
        "                if fact not in facts:\n",
        "                    facts.append(fact)\n",
        "                    print(f\"Learned: {fact}\")\n",
        "                return  # only need one wall nearby\n",
        "    # If no wall adjacent, do nothing\n"
      ]
    },
    {
      "cell_type": "code",
      "execution_count": null,
      "metadata": {
        "colab": {
          "base_uri": "https://localhost:8080/"
        },
        "id": "IE-otBoXvK5d",
        "outputId": "56ebe5a8-afa8-4aa3-8c4b-294612961ab9"
      },
      "outputs": [
        {
          "name": "stdout",
          "output_type": "stream",
          "text": [
            "A . . . \n",
            ". . # . \n",
            "# . . . \n",
            ". . # G \n",
            "\n"
          ]
        }
      ],
      "source": [
        "show_maze()"
      ]
    },
    {
      "cell_type": "code",
      "execution_count": null,
      "metadata": {
        "colab": {
          "base_uri": "https://localhost:8080/"
        },
        "id": "z3dCY7c0aRja",
        "outputId": "6b7178ed-a5c0-4ccd-828f-419aacc652d5"
      },
      "outputs": [
        {
          "name": "stdout",
          "output_type": "stream",
          "text": [
            "Learned: Free(0,0)\n",
            "Learned: Free(0,1)\n",
            "Learned: Free(0,2)\n",
            "Learned: NextToWall(0,2)\n",
            "Learned: Free(0,3)\n",
            "Learned: Free(1,0)\n",
            "Learned: NextToWall(1,0)\n",
            "Learned: Free(1,1)\n",
            "Learned: NextToWall(1,1)\n",
            "Learned: Wall(1,2)\n",
            "Learned: Free(1,3)\n",
            "Learned: NextToWall(1,3)\n",
            "Learned: Wall(2,0)\n",
            "Learned: Free(2,1)\n",
            "Learned: NextToWall(2,1)\n",
            "Learned: Free(2,2)\n",
            "Learned: NextToWall(2,2)\n",
            "Learned: Free(2,3)\n",
            "Learned: Free(3,0)\n",
            "Learned: NextToWall(3,0)\n",
            "Learned: Free(3,1)\n",
            "Learned: NextToWall(3,1)\n",
            "Learned: Wall(3,2)\n",
            "Learned: Free(3,3)\n",
            "Learned: NextToWall(3,3)\n",
            "\n",
            "Knowledge Base: 47 facts learned\n"
          ]
        }
      ],
      "source": [
        "for i in range(4):\n",
        "    for j in range(4):\n",
        "        if maze[i][j] == 0:\n",
        "            add_fact(f\"Free({i},{j})\")\n",
        "\n",
        "            # NextToWall facts at initialization\n",
        "            directions = [(1,0), (-1,0), (0,1), (0,-1)]\n",
        "            for dx, dy in directions:\n",
        "                nx, ny = i+dx, j+dy\n",
        "                if 0 <= nx < 4 and 0 <= ny < 4 and maze[nx][ny] == 1:\n",
        "                    add_fact(f\"NextToWall({i},{j})\")\n",
        "                    break  # only need one wall nearby\n",
        "\n",
        "        else:\n",
        "            add_fact(f\"Wall({i},{j})\")\n",
        "\n",
        "print(f\"\\nKnowledge Base: {len(facts)} facts learned\")\n"
      ]
    },
    {
      "cell_type": "code",
      "execution_count": null,
      "metadata": {
        "colab": {
          "base_uri": "https://localhost:8080/"
        },
        "id": "YH_T9elLaRgb",
        "outputId": "6655afe7-4c2a-4d89-8b4e-941c4135f6ae"
      },
      "outputs": [
        {
          "name": "stdout",
          "output_type": "stream",
          "text": [
            "\n",
            "Trying to move to (1,0):\n",
            "Can move to (1,0)? Free=True, InBounds=True\n",
            "Moved to (1,0)\n",
            "Learned: Visited(1,0)\n",
            "Learned: NextToWall(1,0)\n",
            ". . . . \n",
            "A . # . \n",
            "# . . . \n",
            ". . # G \n",
            "\n",
            "\n",
            "Trying to move to (1,1):\n",
            "Can move to (1,1)? Free=True, InBounds=True\n",
            "Moved to (1,1)\n",
            "Learned: Visited(1,1)\n",
            "Learned: NextToWall(1,1)\n",
            ". . . . \n",
            ". A # . \n",
            "# . . . \n",
            ". . # G \n",
            "\n",
            "\n",
            "Trying to move to (1,2):\n",
            "Can move to (1,2)? Free=False, InBounds=True\n",
            "Cannot move there!\n",
            "\n",
            "Trying to move to (2,2):\n",
            "Can move to (2,2)? Free=True, InBounds=True\n",
            "Moved to (2,2)\n",
            "Learned: Visited(2,2)\n",
            "Learned: NextToWall(2,2)\n",
            ". . . . \n",
            ". . # . \n",
            "# . A . \n",
            ". . # G \n",
            "\n",
            "\n",
            "Trying to move to (2,3):\n",
            "Can move to (2,3)? Free=True, InBounds=True\n",
            "Moved to (2,3)\n",
            "Learned: Visited(2,3)\n",
            ". . . . \n",
            ". . # . \n",
            "# . . A \n",
            ". . # G \n",
            "\n",
            "\n",
            "Trying to move to (3,3):\n",
            "Can move to (3,3)? Free=True, InBounds=True\n",
            "Moved to (3,3)\n",
            "Learned: Visited(3,3)\n",
            "Learned: NextToWall(3,3)\n",
            ". . . . \n",
            ". . # . \n",
            "# . . . \n",
            ". . # A \n",
            "\n",
            "Agent got stuck\n"
          ]
        }
      ],
      "source": [
        "for new_x, new_y in moves:\n",
        "    print(f\"\\nTrying to move to ({new_x},{new_y}):\")\n",
        "\n",
        "    if can_move(new_x, new_y):\n",
        "        x, y = new_x, new_y\n",
        "        print(f\"Moved to ({x},{y})\")\n",
        "       # Task 1: Add Visited fact\n",
        "        visit_cell(x, y)\n",
        "\n",
        "        # Task 2: Add NextToWall fact\n",
        "        check_next_to_wall(x, y)\n",
        "\n",
        "        show_maze()\n",
        "    else:\n",
        "        print(\"Cannot move there!\")\n",
        "\n",
        "# Check if agent reached target\n",
        "if x == 1 and y == 1:\n",
        "    print(\"SUCCESS-  Agent reached goal\")\n",
        "else:\n",
        "    print(\"Agent got stuck\")"
      ]
    },
    {
      "cell_type": "code",
      "execution_count": null,
      "metadata": {
        "colab": {
          "base_uri": "https://localhost:8080/",
          "height": 139
        },
        "id": "72U2TUn1xtJt",
        "outputId": "b8624291-3779-4d83-b91a-c6f5b798e605"
      },
      "outputs": [
        {
          "data": {
            "application/vnd.google.colaboratory.intrinsic+json": {
              "type": "string"
            },
            "text/plain": [
              "'\\nfrom collections import deque\\n\\ndef find_path(start, goal):\\n    \"\"\"\\n    Breadth-First Search (BFS) using the FOL-style rule can_move().\\n    The agent searches for a path from start to goal.\\n    \"\"\"\\n    queue = deque([start])\\n    parent = {start: None}\\n    visited = set([start])\\n\\n    while queue:\\n        cx, cy = queue.popleft()\\n        if (cx, cy) == goal:\\n            # Reconstruct path backwards until we hit None\\n            path = []\\n            node = (cx, cy)\\n            while node is not None:\\n                path.append(node)\\n                node = parent[node]\\n            return path[::-1]  # reverse: start → goal\\n\\n        # Explore neighbors (down, up, right, left)\\n        for dx, dy in [(1,0),(-1,0),(0,1),(0,-1)]:\\n            nx, ny = cx+dx, cy+dy\\n            if can_move(nx, ny) and (nx, ny) not in visited:\\n                visited.add((nx, ny))\\n                parent[(nx, ny)] = (cx, cy)\\n                queue.append((nx, ny))\\n    return None\\n\\n\\ndef dls(start, goal):\\n    stack = [(start, [start])]\\n    while stack:\\n        node, path = stack.pop()\\n        if node == goal:\\n            return path\\n        # Only continue if we haven\\'t exceeded the depth limit\\n        if len(path) <= 10:\\n            for neighbor in get_neighbors(maze, node):\\n                stack.append((neighbor, path + [neighbor]))\\n    return None\\n\\n\\n'"
            ]
          },
          "execution_count": 22,
          "metadata": {},
          "output_type": "execute_result"
        }
      ],
      "source": [
        "# up/down/left/right moves\n",
        "moves = [\n",
        "    (1,0), (1,1), (1,2),   # go down then right across row 1\n",
        "    (2,2), (2,3),          # go down into row 2\n",
        "    (3,3)                  # finally reach goal\n",
        "]\n",
        "\n",
        "\n",
        "# Alt 2\n",
        "# moves = [(0,1), (1,0), (1,1)]\n",
        "\n",
        "\n",
        "\n",
        "'''\n",
        "from collections import deque\n",
        "\n",
        "def find_path(start, goal):\n",
        "    \"\"\"\n",
        "    Breadth-First Search (BFS) using the FOL-style rule can_move().\n",
        "    The agent searches for a path from start to goal.\n",
        "    \"\"\"\n",
        "    queue = deque([start])\n",
        "    parent = {start: None}\n",
        "    visited = set([start])\n",
        "\n",
        "    while queue:\n",
        "        cx, cy = queue.popleft()\n",
        "        if (cx, cy) == goal:\n",
        "            # Reconstruct path backwards until we hit None\n",
        "            path = []\n",
        "            node = (cx, cy)\n",
        "            while node is not None:\n",
        "                path.append(node)\n",
        "                node = parent[node]\n",
        "            return path[::-1]  # reverse: start → goal\n",
        "\n",
        "        # Explore neighbors (down, up, right, left)\n",
        "        for dx, dy in [(1,0),(-1,0),(0,1),(0,-1)]:\n",
        "            nx, ny = cx+dx, cy+dy\n",
        "            if can_move(nx, ny) and (nx, ny) not in visited:\n",
        "                visited.add((nx, ny))\n",
        "                parent[(nx, ny)] = (cx, cy)\n",
        "                queue.append((nx, ny))\n",
        "    return None\n",
        "\n",
        "\n",
        "def dls(start, goal):\n",
        "    stack = [(start, [start])]\n",
        "    while stack:\n",
        "        node, path = stack.pop()\n",
        "        if node == goal:\n",
        "            return path\n",
        "        # Only continue if we haven't exceeded the depth limit\n",
        "        if len(path) <= 10:\n",
        "            for neighbor in get_neighbors(maze, node):\n",
        "                stack.append((neighbor, path + [neighbor]))\n",
        "    return None\n",
        "\n",
        "\n",
        "'''"
      ]
    },
    {
      "cell_type": "markdown",
      "metadata": {
        "id": "86qBvdT7CxEV"
      },
      "source": []
    }
  ],
  "metadata": {
    "colab": {
      "provenance": []
    },
    "kernelspec": {
      "display_name": "Python 3",
      "name": "python3"
    },
    "language_info": {
      "name": "python"
    }
  },
  "nbformat": 4,
  "nbformat_minor": 0
}
